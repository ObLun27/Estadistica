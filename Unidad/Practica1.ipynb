{
  "nbformat": 4,
  "nbformat_minor": 0,
  "metadata": {
    "colab": {
      "provenance": [],
      "toc_visible": true,
      "authorship_tag": "ABX9TyN0pz/PMZ2GBWye0gNx617Q",
      "include_colab_link": true
    },
    "kernelspec": {
      "name": "python3",
      "display_name": "Python 3"
    },
    "language_info": {
      "name": "python"
    }
  },
  "cells": [
    {
      "cell_type": "markdown",
      "metadata": {
        "id": "view-in-github",
        "colab_type": "text"
      },
      "source": [
        "<a href=\"https://colab.research.google.com/github/ObLun27/Estadistica/blob/main/Unidad/Practica1.ipynb\" target=\"_parent\"><img src=\"https://colab.research.google.com/assets/colab-badge.svg\" alt=\"Open In Colab\"/></a>"
      ]
    },
    {
      "cell_type": "markdown",
      "source": [
        "![download.png](data:image/png;base64,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)\n",
        "\n",
        "##Probabilidad y Estadistica\n",
        "Alumno: Obed Alejandro Luna Garcia\n",
        "\n",
        "Practica 1. Estadística descriptiva básica e Histograma.\n",
        "\n",
        "Grupo: 2YY\n",
        "\n",
        "Facilitador: Dr. José Gabriel Rodríguez Rivas.\n",
        "\n",
        "Unidad 1"
      ],
      "metadata": {
        "id": "85HE0uqC2aco"
      }
    },
    {
      "cell_type": "markdown",
      "source": [
        "# Determinar la media del ejemplo 1"
      ],
      "metadata": {
        "id": "MI9gOiUySxHZ"
      }
    },
    {
      "cell_type": "code",
      "source": [
        "from statistics import *"
      ],
      "metadata": {
        "id": "0ha9AFGkSxHZ"
      },
      "execution_count": 2,
      "outputs": []
    },
    {
      "cell_type": "code",
      "execution_count": 1,
      "metadata": {
        "colab": {
          "base_uri": "https://localhost:8080/"
        },
        "outputId": "0fcbbbe9-4c47-4a9a-9bfb-9221b2081ca5",
        "id": "M6SSDjNySxHa"
      },
      "outputs": [
        {
          "output_type": "stream",
          "name": "stdout",
          "text": [
            "[70, 85, 70, 95, 100, 85, 75, 85, 95, 100, 80, 100]\n"
          ]
        }
      ],
      "source": [
        "\n",
        "[ ] # Lista de calificaciones del grupo a de probabilidad y Estadística\n",
        "grupoa = [70, 85, 70, 95, 100, 85, 75, 85, 95, 100, 80, 100]\n",
        "print(grupoa)"
      ]
    },
    {
      "cell_type": "code",
      "source": [
        "# Type es para que devuelva el tipo de dato\n",
        "type(grupoa)"
      ],
      "metadata": {
        "colab": {
          "base_uri": "https://localhost:8080/"
        },
        "outputId": "9a1f2a7c-1f33-4be9-d8b5-cbc48bfa2d1c",
        "id": "DmQ4d23MSxHa"
      },
      "execution_count": null,
      "outputs": [
        {
          "output_type": "execute_result",
          "data": {
            "text/plain": [
              "list"
            ]
          },
          "metadata": {},
          "execution_count": 5
        }
      ]
    },
    {
      "cell_type": "code",
      "source": [
        "#len es la longitud de elementos que tiene una lista\n",
        "promedio = sum(grupoa) / len(grupoa)\n",
        "print(promedio)"
      ],
      "metadata": {
        "colab": {
          "base_uri": "https://localhost:8080/"
        },
        "outputId": "1539bcde-d860-4281-f185-dd20708317be",
        "id": "WrDd2xeQSxHa"
      },
      "execution_count": null,
      "outputs": [
        {
          "output_type": "stream",
          "name": "stdout",
          "text": [
            "86.25\n"
          ]
        }
      ]
    },
    {
      "cell_type": "code",
      "source": [
        "\n",
        "promedio2 = mean(grupoa)\n",
        "print(promedio2)"
      ],
      "metadata": {
        "colab": {
          "base_uri": "https://localhost:8080/"
        },
        "outputId": "3256f9ea-ccb3-4d37-d165-194fbb1bcf95",
        "id": "lvTG_xjTSxHa"
      },
      "execution_count": null,
      "outputs": [
        {
          "output_type": "stream",
          "name": "stdout",
          "text": [
            "86.25\n"
          ]
        }
      ]
    },
    {
      "cell_type": "markdown",
      "source": [
        "##Determinar la mediana del ejemplo 1"
      ],
      "metadata": {
        "id": "4h7K9yBNSxHa"
      }
    },
    {
      "cell_type": "code",
      "source": [
        "#Determinar la mediana\n",
        "mediana = median(grupoa)\n",
        "print(mediana)"
      ],
      "metadata": {
        "colab": {
          "base_uri": "https://localhost:8080/"
        },
        "outputId": "53ce083e-7690-46ca-dba7-6504a7ef6d4a",
        "id": "2eZylyE4SxHa"
      },
      "execution_count": null,
      "outputs": [
        {
          "output_type": "stream",
          "name": "stdout",
          "text": [
            "85.0\n"
          ]
        }
      ]
    },
    {
      "cell_type": "markdown",
      "source": [
        "## Determinar la moda del ejemplo 1"
      ],
      "metadata": {
        "id": "5WbeW2krSxHa"
      }
    },
    {
      "cell_type": "code",
      "source": [
        "\n",
        "# Determinar la moda con mode (número que más se repite)\n",
        "moda = mode(grupoa)\n",
        "print(moda)"
      ],
      "metadata": {
        "colab": {
          "base_uri": "https://localhost:8080/"
        },
        "outputId": "70855d27-00a3-4239-ddad-d7e025c23a64",
        "id": "yOjVjjN5SxHa"
      },
      "execution_count": null,
      "outputs": [
        {
          "output_type": "stream",
          "name": "stdout",
          "text": [
            "85\n"
          ]
        }
      ]
    },
    {
      "cell_type": "code",
      "source": [
        "\n",
        "# en caso de haber más de una moda se puede utilizar la función multimode para sacar las\n",
        "# múltiples modas que puedan existir\n",
        "moda2 = multimode(grupoa)\n",
        "print(moda2)"
      ],
      "metadata": {
        "colab": {
          "base_uri": "https://localhost:8080/"
        },
        "outputId": "90ee8162-d4e7-4cf1-a93a-08c15d378791",
        "id": "8NGmqHsBSxHb"
      },
      "execution_count": null,
      "outputs": [
        {
          "output_type": "stream",
          "name": "stdout",
          "text": [
            "[85, 100]\n"
          ]
        }
      ]
    },
    {
      "cell_type": "code",
      "execution_count": null,
      "metadata": {
        "colab": {
          "base_uri": "https://localhost:8080/"
        },
        "id": "muu1LxycYrGB",
        "outputId": "de8a61c4-bb78-4859-b702-cd8ddd88e24a"
      },
      "outputs": [
        {
          "output_type": "stream",
          "name": "stdout",
          "text": [
            "[15.1, 17.2, 14.69, 13.27, 22.15, 18.71, 19.15, 20.65, 15.1, 17.2]\n"
          ]
        }
      ],
      "source": [
        "tiempos100mts = [15.10, 17.20, 14.69, 13.27, 22.15, 18.71, 19.15, 20.65, 15.10, 17.20]\n",
        "#Mostrar los valores de la lista\n",
        "print(tiempos100mts)"
      ]
    },
    {
      "cell_type": "markdown",
      "source": [
        "# Función mean para calcular el promedio"
      ],
      "metadata": {
        "id": "l9coKwiQZreU"
      }
    },
    {
      "cell_type": "code",
      "source": [
        "\n",
        "from statistics import *\n",
        "prom = mean(tiempos100mts)\n",
        "print(\"El tiempo promedio de los corredores es: \",prom)"
      ],
      "metadata": {
        "colab": {
          "base_uri": "https://localhost:8080/"
        },
        "id": "EHkxknERZOvo",
        "outputId": "5da59886-8a5a-4a55-bab2-9b454ffa67ac"
      },
      "execution_count": null,
      "outputs": [
        {
          "output_type": "stream",
          "name": "stdout",
          "text": [
            "El tiempo promedio de los corredores es:  17.322\n"
          ]
        }
      ]
    },
    {
      "cell_type": "markdown",
      "source": [
        "#Función median para calcular la mediana"
      ],
      "metadata": {
        "id": "MMM3B-GTaN88"
      }
    },
    {
      "cell_type": "code",
      "source": [
        "mediana = median(tiempos100mts)\n",
        "print(\"La mediana de los tiempos de los corredores es: \",mediana)"
      ],
      "metadata": {
        "colab": {
          "base_uri": "https://localhost:8080/"
        },
        "id": "8SMRozmFZ8xp",
        "outputId": "712e65b1-075c-4774-d32a-d76bca6f7788"
      },
      "execution_count": null,
      "outputs": [
        {
          "output_type": "stream",
          "name": "stdout",
          "text": [
            "La mediana de los tiempos de los corredores es:  17.2\n"
          ]
        }
      ]
    },
    {
      "cell_type": "markdown",
      "source": [
        "#Función Mode para calcular la moda"
      ],
      "metadata": {
        "id": "kGulqrZ3aYTc"
      }
    },
    {
      "cell_type": "code",
      "source": [
        "moda = mode(tiempos100mts)\n",
        "print(\"La moda del tiempo de los corredores es: \",moda)"
      ],
      "metadata": {
        "colab": {
          "base_uri": "https://localhost:8080/"
        },
        "id": "XYRtW_gVaW7N",
        "outputId": "81af7187-1247-407a-9ece-996562c5937a"
      },
      "execution_count": null,
      "outputs": [
        {
          "output_type": "stream",
          "name": "stdout",
          "text": [
            "La moda del tiempo de los corredores es:  15.1\n"
          ]
        }
      ]
    },
    {
      "cell_type": "code",
      "execution_count": null,
      "metadata": {
        "id": "eZSrGvXsb1Ji"
      },
      "outputs": [],
      "source": [
        "#Librería para generar números aleatorios\n",
        "import random"
      ]
    },
    {
      "cell_type": "code",
      "source": [
        "fabrica1 = []\n",
        "for i in range(100):\n",
        "    numero_aleatorio = round( random.uniform(50, 100), 2 )\n",
        "    fabrica1.append(numero_aleatorio)\n",
        "print (fabrica1)"
      ],
      "metadata": {
        "colab": {
          "base_uri": "https://localhost:8080/"
        },
        "id": "UVaMUUwfb9SJ",
        "outputId": "e38b0d6a-5763-400d-a069-6b0bc2ed1750"
      },
      "execution_count": null,
      "outputs": [
        {
          "output_type": "stream",
          "name": "stdout",
          "text": [
            "[95.84, 80.24, 90.43, 57.81, 95.23, 52.79, 59.64, 84.48, 54.13, 59.13, 54.58, 77.97, 53.04, 69.05, 80.16, 59.75, 57.65, 90.88, 90.13, 59.47, 58.48, 63.07, 68.54, 71.06, 71.76, 96.6, 73.97, 72.03, 67.54, 99.64, 90.1, 74.17, 53.98, 93.69, 90.64, 94.29, 98.61, 90.08, 85.87, 95.13, 59.57, 89.05, 82.51, 81.94, 68.42, 84.85, 56.83, 75.89, 78.77, 91.19, 57.73, 52.81, 76.11, 53.97, 72.18, 90.81, 69.79, 98.73, 53.77, 64.12, 55.17, 70.74, 81.61, 51.72, 62.61, 56.87, 59.04, 62.27, 68.27, 77.96, 63.67, 92.31, 97.73, 62.99, 66.32, 79.28, 55.29, 89.45, 75.67, 80.73, 84.68, 78.28, 79.05, 62.07, 67.64, 58.17, 85.13, 85.0, 67.47, 98.19, 59.12, 89.01, 52.82, 51.92, 57.64, 52.09, 58.04, 81.62, 67.53, 73.9]\n"
          ]
        }
      ]
    },
    {
      "cell_type": "code",
      "source": [
        "fabrica2 = []\n",
        "for i in range(100):\n",
        "   numero_aleatorio2 = round(random.uniform(50,100), 2)\n",
        "   fabrica2.append(numero_aleatorio2)\n",
        "print (fabrica2)"
      ],
      "metadata": {
        "colab": {
          "base_uri": "https://localhost:8080/"
        },
        "id": "54-fout1dTpU",
        "outputId": "f44344c8-476e-4af8-ae6a-d2c12061b993"
      },
      "execution_count": null,
      "outputs": [
        {
          "output_type": "stream",
          "name": "stdout",
          "text": [
            "[75.53, 77.48, 80.98, 80.76, 68.6, 99.67, 81.27, 92.09, 62.45, 57.06, 68.51, 83.17, 89.62, 88.34, 57.47, 65.92, 72.47, 98.72, 50.59, 91.14, 81.27, 89.66, 97.78, 81.03, 53.93, 86.01, 81.16, 66.74, 76.62, 68.84, 55.23, 93.98, 98.06, 72.71, 91.74, 69.78, 86.07, 86.77, 64.67, 51.31, 71.02, 87.08, 74.07, 64.82, 64.32, 70.51, 60.3, 94.97, 54.56, 89.04, 92.49, 63.47, 51.26, 91.48, 59.25, 95.2, 88.59, 62.64, 78.01, 51.33, 83.42, 58.26, 86.86, 57.51, 50.22, 89.41, 99.73, 73.15, 61.91, 68.87, 80.62, 76.97, 68.22, 90.46, 92.32, 60.54, 61.23, 61.55, 88.79, 68.94, 84.88, 80.6, 96.01, 82.36, 97.14, 94.96, 58.11, 72.96, 64.09, 92.63, 86.95, 86.59, 70.01, 52.48, 61.65, 80.54, 65.33, 82.61, 86.05, 71.02]\n"
          ]
        }
      ]
    },
    {
      "cell_type": "code",
      "source": [
        "\n",
        "#libreria para gráficar valores\n",
        "import matplotlib.pyplot as plt"
      ],
      "metadata": {
        "id": "Firb7HrXeHUS"
      },
      "execution_count": null,
      "outputs": []
    },
    {
      "cell_type": "code",
      "source": [
        "plt.hist(fabrica1)\n",
        "plt.title(\"Producción diaria de la fabrica\")"
      ],
      "metadata": {
        "colab": {
          "base_uri": "https://localhost:8080/",
          "height": 269
        },
        "id": "I-mAL8tneUL_",
        "outputId": "b7e095da-243f-4e45-f575-3c210c3899a8"
      },
      "execution_count": null,
      "outputs": [
        {
          "output_type": "execute_result",
          "data": {
            "text/plain": [
              "Text(0.5, 1.0, 'Producción diaria de la fabrica')"
            ]
          },
          "metadata": {},
          "execution_count": 36
        },
        {
          "output_type": "display_data",
          "data": {
            "text/plain": [
              "<Figure size 640x480 with 1 Axes>"
            ],
            "image/png": "[encoded data removed]"
          },
          "metadata": {}
        }
      ]
    },
    {
      "cell_type": "code",
      "source": [
        "plt.hist(fabrica2)\n",
        "plt.title(\"Producción diaria de la fabrica\")"
      ],
      "metadata": {
        "colab": {
          "base_uri": "https://localhost:8080/",
          "height": 269
        },
        "id": "3VDB4gUae5hZ",
        "outputId": "cbff0c4d-9a3c-4361-91bf-b1526fad41a7"
      },
      "execution_count": null,
      "outputs": [
        {
          "output_type": "execute_result",
          "data": {
            "text/plain": [
              "Text(0.5, 1.0, 'Producción diaria de la fabrica')"
            ]
          },
          "metadata": {},
          "execution_count": 37
        },
        {
          "output_type": "display_data",
          "data": {
            "text/plain": [
              "<Figure size 640x480 with 1 Axes>"
            ],
            "image/png": "[encoded data removed]"
          },
          "metadata": {}
        }
      ]
    },
    {
      "cell_type": "code",
      "source": [
        "from statistics import *\n",
        "\n",
        "media1 = mean(fabrica1)\n",
        "mediana1 = median(fabrica1)\n",
        "moda1 = mode(fabrica1)\n",
        "\n",
        "print(\"La media es: \",media1)\n",
        "print(\"La mediana es: \",mediana1)\n",
        "print(\"La moda es: \",moda1)"
      ],
      "metadata": {
        "colab": {
          "base_uri": "https://localhost:8080/"
        },
        "id": "VHC9J7HjeWlU",
        "outputId": "2b4a4840-3357-435d-b87b-9adf2cfa98f5"
      },
      "execution_count": null,
      "outputs": [
        {
          "output_type": "stream",
          "name": "stdout",
          "text": [
            "La media es:  73.0976\n",
            "La mediana es:  71.89500000000001\n",
            "La moda es:  95.84\n"
          ]
        }
      ]
    },
    {
      "cell_type": "code",
      "source": [
        "from statistics import *\n",
        "\n",
        "media2 = mean(fabrica2)\n",
        "mediana2 = median(fabrica2)\n",
        "moda2 = mode(fabrica2)\n",
        "\n",
        "print(\"La media es: \",media2)\n",
        "print(\"La mediana es: \",mediana2)\n",
        "print(\"La moda es: \",moda2)"
      ],
      "metadata": {
        "colab": {
          "base_uri": "https://localhost:8080/"
        },
        "id": "zSPhwz0Kfp6s",
        "outputId": "0f1799e2-0f2a-42a7-e273-8553c70508b8"
      },
      "execution_count": null,
      "outputs": [
        {
          "output_type": "stream",
          "name": "stdout",
          "text": [
            "La media es:  76.0556\n",
            "La mediana es:  77.225\n",
            "La moda es:  81.27\n"
          ]
        }
      ]
    },
    {
      "cell_type": "code",
      "source": [
        "\n",
        "# generar 2 subproductos de 1 renglón por 2 columnas para desplegar los 2 histograma,\n",
        "# una a lado de la otra\n",
        "fig, (ax1, ax2) = plt.subplots(nrows =1, ncols=2, figsize=(10,5))\n",
        "ax1.hist(fabrica1)\n",
        "ax2.hist(fabrica2)\n",
        "plt.show()"
      ],
      "metadata": {
        "colab": {
          "base_uri": "https://localhost:8080/",
          "height": 158
        },
        "id": "HkwRkHOgfyZE",
        "outputId": "3aa53031-bcf5-46b0-ddcf-522b0994092e"
      },
      "execution_count": null,
      "outputs": [
        {
          "output_type": "display_data",
          "data": {
            "text/plain": [
              "<Figure size 1000x500 with 2 Axes>"
            ],
            "image/png": "[encoded data removed]"
          },
          "metadata": {}
        }
      ]
    },
    {
      "cell_type": "code",
      "source": [
        "plt.hist(fabrica1, bins=10, alpha=0.2, color='b', edgecolor = \"black\")\n",
        "plt.axvline(media1, color ='b', linestyle='dashed', linewidth=2, label='Media')\n",
        "plt.axvline(mediana1, color ='r', linestyle='dashed', linewidth=2, label='Mediana')\n",
        "plt.axvline(moda1, color ='y', linestyle='dashed', linewidth=2, label='Moda')\n",
        "plt.xlabel('Valor')\n",
        "plt.ylabel('Frecuencia')\n",
        "plt.title(\"Producción diaria de la fabrica 1\")\n",
        "plt.legend()\n",
        "plt.show"
      ],
      "metadata": {
        "colab": {
          "base_uri": "https://localhost:8080/",
          "height": 423
        },
        "id": "lL9s77qXhb34",
        "outputId": "d3586225-4309-4f1a-ab4f-92e2f90015b3"
      },
      "execution_count": null,
      "outputs": [
        {
          "output_type": "execute_result",
          "data": {
            "text/plain": [
              "<function matplotlib.pyplot.show(close=None, block=None)>"
            ],
            "text/html": [
              "<div style=\"max-width:800px; border: 1px solid var(--colab-border-color);\"><style>\n",
              "      pre.function-repr-contents {\n",
              "        overflow-x: auto;\n",
              "        padding: 8px 12px;\n",
              "        max-height: 500px;\n",
              "      }\n",
              "\n",
              "      pre.function-repr-contents.function-repr-contents-collapsed {\n",
              "        cursor: pointer;\n",
              "        max-height: 100px;\n",
              "      }\n",
              "    </style>\n",
              "    <pre style=\"white-space: initial; background:\n",
              "         var(--colab-secondary-surface-color); padding: 8px 12px;\n",
              "         border-bottom: 1px solid var(--colab-border-color);\"><b>matplotlib.pyplot.show</b><br/>def show(*args, **kwargs) -&gt; None</pre><pre class=\"function-repr-contents function-repr-contents-collapsed\" style=\"\"><a class=\"filepath\" style=\"display:none\" href=\"#\">/usr/local/lib/python3.11/dist-packages/matplotlib/pyplot.py</a>Display all open figures.\n",
              "\n",
              "Parameters\n",
              "----------\n",
              "block : bool, optional\n",
              "    Whether to wait for all figures to be closed before returning.\n",
              "\n",
              "    If `True` block and run the GUI main loop until all figure windows\n",
              "    are closed.\n",
              "\n",
              "    If `False` ensure that all figure windows are displayed and return\n",
              "    immediately.  In this case, you are responsible for ensuring\n",
              "    that the event loop is running to have responsive figures.\n",
              "\n",
              "    Defaults to True in non-interactive mode and to False in interactive\n",
              "    mode (see `.pyplot.isinteractive`).\n",
              "\n",
              "See Also\n",
              "--------\n",
              "ion : Enable interactive mode, which shows / updates the figure after\n",
              "      every plotting command, so that calling ``show()`` is not necessary.\n",
              "ioff : Disable interactive mode.\n",
              "savefig : Save the figure to an image file instead of showing it on screen.\n",
              "\n",
              "Notes\n",
              "-----\n",
              "**Saving figures to file and showing a window at the same time**\n",
              "\n",
              "If you want an image file as well as a user interface window, use\n",
              "`.pyplot.savefig` before `.pyplot.show`. At the end of (a blocking)\n",
              "``show()`` the figure is closed and thus unregistered from pyplot. Calling\n",
              "`.pyplot.savefig` afterwards would save a new and thus empty figure. This\n",
              "limitation of command order does not apply if the show is non-blocking or\n",
              "if you keep a reference to the figure and use `.Figure.savefig`.\n",
              "\n",
              "**Auto-show in jupyter notebooks**\n",
              "\n",
              "The jupyter backends (activated via ``%matplotlib inline``,\n",
              "``%matplotlib notebook``, or ``%matplotlib widget``), call ``show()`` at\n",
              "the end of every cell by default. Thus, you usually don&#x27;t have to call it\n",
              "explicitly there.</pre>\n",
              "      <script>\n",
              "      if (google.colab.kernel.accessAllowed && google.colab.files && google.colab.files.view) {\n",
              "        for (const element of document.querySelectorAll('.filepath')) {\n",
              "          element.style.display = 'block'\n",
              "          element.onclick = (event) => {\n",
              "            event.preventDefault();\n",
              "            event.stopPropagation();\n",
              "            google.colab.files.view(element.textContent, 569);\n",
              "          };\n",
              "        }\n",
              "      }\n",
              "      for (const element of document.querySelectorAll('.function-repr-contents')) {\n",
              "        element.onclick = (event) => {\n",
              "          event.preventDefault();\n",
              "          event.stopPropagation();\n",
              "          element.classList.toggle('function-repr-contents-collapsed');\n",
              "        };\n",
              "      }\n",
              "      </script>\n",
              "      </div>"
            ]
          },
          "metadata": {},
          "execution_count": 53
        },
        {
          "output_type": "display_data",
          "data": {
            "text/plain": [
              "<Figure size 640x480 with 1 Axes>"
            ],
            "image/png": "[encoded data removed]"
          },
          "metadata": {}
        }
      ]
    }
  ]
}